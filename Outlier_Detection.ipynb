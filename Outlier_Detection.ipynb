{
  "nbformat": 4,
  "nbformat_minor": 0,
  "metadata": {
    "colab": {
      "provenance": []
    },
    "kernelspec": {
      "name": "python3",
      "display_name": "Python 3"
    },
    "language_info": {
      "name": "python"
    }
  },
  "cells": [
    {
      "cell_type": "code",
      "execution_count": 1,
      "metadata": {
        "id": "yHs4sK3Pf7yD"
      },
      "outputs": [],
      "source": [
        "import pandas as pd"
      ]
    },
    {
      "cell_type": "code",
      "source": [
        "file_path = '/content/transformed_data.xlsx'"
      ],
      "metadata": {
        "id": "KCFdyBa2gSpN"
      },
      "execution_count": 2,
      "outputs": []
    },
    {
      "cell_type": "code",
      "source": [
        "df = pd.read_excel('/content/transformed_data.xlsx')"
      ],
      "metadata": {
        "id": "anQE9Yp8gtgf"
      },
      "execution_count": 3,
      "outputs": []
    },
    {
      "cell_type": "code",
      "source": [
        "from scipy.stats import zscore"
      ],
      "metadata": {
        "id": "sHSpuzL6g5Jd"
      },
      "execution_count": 4,
      "outputs": []
    },
    {
      "cell_type": "code",
      "source": [
        "df['z_score'] = zscore(df['vehicle_count'])"
      ],
      "metadata": {
        "id": "5KBeAWN-hF0z"
      },
      "execution_count": 5,
      "outputs": []
    },
    {
      "cell_type": "code",
      "source": [
        "outliers = df[abs(df['z_score']) > 3]"
      ],
      "metadata": {
        "id": "qQf1F3iNhmeo"
      },
      "execution_count": 6,
      "outputs": []
    },
    {
      "cell_type": "code",
      "source": [
        "print(outliers)"
      ],
      "metadata": {
        "colab": {
          "base_uri": "https://localhost:8080/"
        },
        "id": "zKHKWhDlhtSt",
        "outputId": "8bbc6d42-5182-4258-a68e-d215166038b1"
      },
      "execution_count": 7,
      "outputs": [
        {
          "output_type": "stream",
          "name": "stdout",
          "text": [
            "      Record ID           timestamp  intersection_id   intersection_name  \\\n",
            "729        1956 2023-01-02 08:30:00                6  Allahabad Junction   \n",
            "768        2061 2023-01-02 10:20:00                1         Civil Lines   \n",
            "1256       3355 2023-01-03 07:50:00                5        Naini Bridge   \n",
            "1270       3403 2023-01-03 08:40:00                3               Chowk   \n",
            "1276       3425 2023-01-03 09:00:00                5        Naini Bridge   \n",
            "...         ...                 ...              ...                 ...   \n",
            "9573       7802 2023-01-06 10:00:00                2               Katra   \n",
            "9588       7744 2023-01-06 09:00:00                4         Tagore Town   \n",
            "9707       7713 2023-01-06 08:30:00                3               Chowk   \n",
            "9769       7832 2023-01-06 10:30:00                2               Katra   \n",
            "9908       9813 2023-01-07 19:30:00                3               Chowk   \n",
            "\n",
            "      latitude  longitude  vehicle_count  average_speed  signal_cycle_time  \\\n",
            "729    25.4358    81.8307            334          10.40                120   \n",
            "768    25.4486    81.8333            317          11.82                120   \n",
            "1256   25.4088    81.8592            315          21.64                120   \n",
            "1270   25.4314    81.8437            299          23.02                120   \n",
            "1276   25.4088    81.8592            299          21.63                120   \n",
            "...        ...        ...            ...            ...                ...   \n",
            "9573   25.4550    81.8463            349          20.80                120   \n",
            "9588   25.4675    81.8867            301          23.72                120   \n",
            "9707   25.4314    81.8437            310          21.59                120   \n",
            "9769   25.4550    81.8463            354          20.89                120   \n",
            "9908   25.4314    81.8437            297          11.37                120   \n",
            "\n",
            "      green_time  ...  day_of_week  is_holiday              event  \\\n",
            "729           81  ...       Monday           0           Accident   \n",
            "768           79  ...          NaN           0           Roadwork   \n",
            "1256          87  ...      Tuesday           0                NaN   \n",
            "1270          84  ...      Tuesday           0                NaN   \n",
            "1276          72  ...      Tuesday           0                NaN   \n",
            "...          ...  ...          ...         ...                ...   \n",
            "9573          72  ...       Friday           0                NaN   \n",
            "9588          89  ...       Friday           0  Local Market Fair   \n",
            "9707          83  ...       Friday           0  Local Market Fair   \n",
            "9769          86  ...       Friday           0                NaN   \n",
            "9908          93  ...     Saturday           0           Roadwork   \n",
            "\n",
            "     pollution_level  car_count bus_count  truck_count  motorcycle_count  \\\n",
            "729             6.67        206        34           32                62   \n",
            "768             6.40        193        33           31                60   \n",
            "1256            6.21        189        28           10                63   \n",
            "1270            6.14        177        31           32                59   \n",
            "1276            6.35        166        32           36                65   \n",
            "...              ...        ...       ...          ...               ...   \n",
            "9573            7.12        212        40           30                67   \n",
            "9588            6.12        179        26           39                57   \n",
            "9707            6.43        187        28           41                54   \n",
            "9769            7.16        212        33           41                68   \n",
            "9908            6.26        172        32           34                59   \n",
            "\n",
            "      Hour of the day   z_score  \n",
            "729               NaN  3.687084  \n",
            "768               NaN  3.406073  \n",
            "1256              NaN  3.373013  \n",
            "1270              NaN  3.108533  \n",
            "1276              NaN  3.108533  \n",
            "...               ...       ...  \n",
            "9573              NaN  3.935034  \n",
            "9588              NaN  3.141593  \n",
            "9707              NaN  3.290363  \n",
            "9769              NaN  4.017684  \n",
            "9908              NaN  3.075473  \n",
            "\n",
            "[87 rows x 23 columns]\n"
          ]
        }
      ]
    },
    {
      "cell_type": "code",
      "source": [
        "df['z_score'] = zscore(df['average_speed'])"
      ],
      "metadata": {
        "id": "19ROZb7IihMO"
      },
      "execution_count": 9,
      "outputs": []
    },
    {
      "cell_type": "code",
      "source": [
        "outliers2 = df[abs(df['z_score']) > 3]"
      ],
      "metadata": {
        "id": "cxXNck3Vi8Ad"
      },
      "execution_count": 10,
      "outputs": []
    },
    {
      "cell_type": "code",
      "source": [
        "print (outliers2)"
      ],
      "metadata": {
        "colab": {
          "base_uri": "https://localhost:8080/"
        },
        "id": "jup2j1Z8jIGG",
        "outputId": "6884dc67-131f-457f-d765-f9a8ef43a76a"
      },
      "execution_count": 11,
      "outputs": [
        {
          "output_type": "stream",
          "name": "stdout",
          "text": [
            "      Record ID           timestamp  intersection_id   intersection_name  \\\n",
            "179         466 2023-01-01 07:40:00                6  Allahabad Junction   \n",
            "311         828 2023-01-01 13:40:00                8              Jhunsi   \n",
            "340         914 2023-01-01 15:10:00                4         Tagore Town   \n",
            "510        1354 2023-01-01 22:30:00                4         Tagore Town   \n",
            "729        1956 2023-01-02 08:30:00                6  Allahabad Junction   \n",
            "...         ...                 ...              ...                 ...   \n",
            "9259       9853 2023-01-07 20:10:00                3               Chowk   \n",
            "9291       4118 2023-01-03 20:30:00                8              Jhunsi   \n",
            "9407       6558 2023-01-05 13:10:00                8              Jhunsi   \n",
            "9716       7203 2023-01-06 00:00:00                3               Chowk   \n",
            "9839       9661 2023-01-07 17:00:00                1         Civil Lines   \n",
            "\n",
            "      latitude  longitude  vehicle_count  average_speed  signal_cycle_time  \\\n",
            "179    25.4358    81.8307              0          57.97                120   \n",
            "311    25.4326    81.9061              4          57.41                120   \n",
            "340    25.4675    81.8867              8          55.97                120   \n",
            "510    25.4675    81.8867              0          58.93                120   \n",
            "729    25.4358    81.8307            334          10.40                120   \n",
            "...        ...        ...            ...            ...                ...   \n",
            "9259   25.4314    81.8437            259          11.11                120   \n",
            "9291   25.4326    81.9061            369          10.23                120   \n",
            "9407   25.4326    81.9061             15          56.65                120   \n",
            "9716   25.4314    81.8437            127          10.89                120   \n",
            "9839   25.4486    81.8333            263           9.86                120   \n",
            "\n",
            "      green_time  ...  day_of_week  is_holiday     event pollution_level  \\\n",
            "179           53  ...       Sunday           1       NaN            0.00   \n",
            "311           58  ...          NaN           1       NaN            0.08   \n",
            "340           52  ...       Sunday           1       NaN            0.20   \n",
            "510           56  ...       Sunday           1       NaN            0.00   \n",
            "729           81  ...       Monday           0  Accident            6.67   \n",
            "...          ...  ...          ...         ...       ...             ...   \n",
            "9259          71  ...     Saturday           0  Roadwork            5.38   \n",
            "9291          82  ...      Tuesday           0  Accident            7.50   \n",
            "9407          62  ...     Thursday           1       NaN            0.18   \n",
            "9716          59  ...       Friday           0  Accident            2.61   \n",
            "9839          81  ...     Saturday           0  Roadwork            5.51   \n",
            "\n",
            "      car_count bus_count  truck_count  motorcycle_count  Hour of the day  \\\n",
            "179           0         0            0                 0              NaN   \n",
            "311           2         0            1                 1              NaN   \n",
            "340           4         2            0                 2              NaN   \n",
            "510           0         0            0                 0              NaN   \n",
            "729         206        34           32                62              NaN   \n",
            "...         ...       ...          ...               ...              ...   \n",
            "9259        153        27           29                50              NaN   \n",
            "9291        225        46           25                73              NaN   \n",
            "9407         11         0            1                 3              NaN   \n",
            "9716         75        13           14                25              NaN   \n",
            "9839        159        32           23                49              NaN   \n",
            "\n",
            "       z_score  \n",
            "179   3.269599  \n",
            "311   3.194430  \n",
            "340   3.001137  \n",
            "510   3.398460  \n",
            "729  -3.115760  \n",
            "...        ...  \n",
            "9259 -3.020456  \n",
            "9291 -3.138579  \n",
            "9407  3.092414  \n",
            "9716 -3.049987  \n",
            "9839 -3.188244  \n",
            "\n",
            "[68 rows x 23 columns]\n"
          ]
        }
      ]
    },
    {
      "cell_type": "code",
      "source": [
        "Q1 = df['average_speed'].quantile(0.25)"
      ],
      "metadata": {
        "id": "6C4WrMmYjPok"
      },
      "execution_count": 12,
      "outputs": []
    },
    {
      "cell_type": "code",
      "source": [
        "Q3 = df['average_speed'].quantile(0.75)"
      ],
      "metadata": {
        "id": "8tYMd8fSjkAC"
      },
      "execution_count": 13,
      "outputs": []
    },
    {
      "cell_type": "code",
      "source": [
        "IQR = Q3 - Q1\n",
        "lower_bound = Q1 - 1.5 * IQR\n",
        "upper_bound = Q3 + 1.5 * IQR\n",
        "outliers3 = df[(df['average_speed'] < lower_bound) | (df['average_speed'] > upper_bound)]"
      ],
      "metadata": {
        "id": "WnHVTF_RkDSR"
      },
      "execution_count": 15,
      "outputs": []
    },
    {
      "cell_type": "code",
      "source": [
        "print(outliers3)"
      ],
      "metadata": {
        "colab": {
          "base_uri": "https://localhost:8080/"
        },
        "id": "DOD6h9HSkRz7",
        "outputId": "79347b31-f49d-49ed-f6cf-47ec618f201c"
      },
      "execution_count": 16,
      "outputs": [
        {
          "output_type": "stream",
          "name": "stdout",
          "text": [
            "      Record ID           timestamp  intersection_id   intersection_name  \\\n",
            "9            23 2023-01-01 00:20:00                3               Chowk   \n",
            "112         296 2023-01-01 04:50:00                6  Allahabad Junction   \n",
            "179         466 2023-01-01 07:40:00                6  Allahabad Junction   \n",
            "253         673 2023-01-01 11:10:00                3               Chowk   \n",
            "305         815 2023-01-01 13:30:00                5        Naini Bridge   \n",
            "...         ...                 ...              ...                 ...   \n",
            "9839       9661 2023-01-07 17:00:00                1         Civil Lines   \n",
            "9908       9813 2023-01-07 19:30:00                3               Chowk   \n",
            "9926       9788 2023-01-07 19:00:00                8              Jhunsi   \n",
            "9957        777 2023-01-01 12:50:00                7           Phaphamau   \n",
            "9959       6662 2023-01-05 15:00:00                2               Katra   \n",
            "\n",
            "      latitude  longitude  vehicle_count  average_speed  signal_cycle_time  \\\n",
            "9      25.4314    81.8437             19          55.14                120   \n",
            "112    25.4358    81.8307             16          54.07                120   \n",
            "179    25.4358    81.8307              0          57.97                120   \n",
            "253    25.4314    81.8437             20          53.28                120   \n",
            "305    25.4088    81.8592             36          53.09                120   \n",
            "...        ...        ...            ...            ...                ...   \n",
            "9839   25.4486    81.8333            263           9.86                120   \n",
            "9908   25.4314    81.8437            297          11.37                120   \n",
            "9926   25.4326    81.9061            247          13.49                120   \n",
            "9957   25.4945    81.8686             27          53.12                120   \n",
            "9959   25.4550    81.8463             34          53.72                120   \n",
            "\n",
            "      green_time  ...  day_of_week  is_holiday     event pollution_level  \\\n",
            "9             57  ...       Sunday           1       NaN            0.37   \n",
            "112           55  ...       Sunday           1       NaN            0.22   \n",
            "179           53  ...       Sunday           1       NaN            0.00   \n",
            "253           69  ...       Sunday           1       NaN            0.34   \n",
            "305           66  ...       Sunday           1       NaN            0.66   \n",
            "...          ...  ...          ...         ...       ...             ...   \n",
            "9839          81  ...     Saturday           0  Roadwork            5.51   \n",
            "9908          93  ...     Saturday           0  Roadwork            6.26   \n",
            "9926          78  ...     Saturday           0  Roadwork            4.70   \n",
            "9957          63  ...       Sunday           1       NaN            0.60   \n",
            "9959          63  ...     Thursday           1       NaN            0.57   \n",
            "\n",
            "      car_count bus_count  truck_count  motorcycle_count  Hour of the day  \\\n",
            "9            12         1            3                 3              NaN   \n",
            "112          13         1            0                 2              NaN   \n",
            "179           0         0            0                 0              NaN   \n",
            "253          15         1            2                 2              NaN   \n",
            "305          22         3            3                 8              NaN   \n",
            "...         ...       ...          ...               ...              ...   \n",
            "9839        159        32           23                49              NaN   \n",
            "9908        172        32           34                59              NaN   \n",
            "9926        154        22           23                48              NaN   \n",
            "9957         17         4            2                 4              NaN   \n",
            "9959         20         4            0                10              NaN   \n",
            "\n",
            "       z_score  \n",
            "9     2.889726  \n",
            "112   2.746099  \n",
            "179   3.269599  \n",
            "253   2.640056  \n",
            "305   2.614553  \n",
            "...        ...  \n",
            "9839 -3.188244  \n",
            "9908 -2.985556  \n",
            "9926 -2.700987  \n",
            "9957  2.618579  \n",
            "9959  2.699118  \n",
            "\n",
            "[214 rows x 23 columns]\n"
          ]
        }
      ]
    },
    {
      "cell_type": "code",
      "source": [
        "Q2 = df['vehicle_count'].quantile(0.25)\n",
        "Q4 = df['vehicle_count'].quantile(0.75)\n",
        "IQR = Q3 - Q1\n",
        "lower_bound = Q2 - 1.5 * IQR\n",
        "upper_bound = Q4 + 1.5 * IQR\n",
        "outliers4 = df[(df['vehicle_count'] < lower_bound) | (df['vehicle_count'] > upper_bound)]\n"
      ],
      "metadata": {
        "id": "7wlp2sNxkuU_"
      },
      "execution_count": 19,
      "outputs": []
    },
    {
      "cell_type": "code",
      "source": [
        "print(outliers4)"
      ],
      "metadata": {
        "colab": {
          "base_uri": "https://localhost:8080/"
        },
        "id": "IOk7sZeclc1l",
        "outputId": "c4cf90e8-cf63-48e0-ab84-4624a1bcc918"
      },
      "execution_count": 20,
      "outputs": [
        {
          "output_type": "stream",
          "name": "stdout",
          "text": [
            "      Record ID           timestamp  intersection_id intersection_name  \\\n",
            "1             5 2023-01-01 00:00:00                5      Naini Bridge   \n",
            "4            12 2023-01-01 00:10:00                2             Katra   \n",
            "5            17 2023-01-01 00:10:00                7         Phaphamau   \n",
            "6            19 2023-01-01 00:10:00                9        MNNIT Gate   \n",
            "8            21 2023-01-01 00:20:00                1       Civil Lines   \n",
            "...         ...                 ...              ...               ...   \n",
            "9957        777 2023-01-01 12:50:00                7         Phaphamau   \n",
            "9958       7564 2023-01-06 06:00:00                4       Tagore Town   \n",
            "9959       6662 2023-01-05 15:00:00                2             Katra   \n",
            "9960       3105 2023-01-03 03:40:00                5      Naini Bridge   \n",
            "9961       5489 2023-01-04 19:20:00                9        MNNIT Gate   \n",
            "\n",
            "      latitude  longitude  vehicle_count  average_speed  signal_cycle_time  \\\n",
            "1      25.4088    81.8592             30          49.09                120   \n",
            "4      25.4550    81.8463             47          42.64                120   \n",
            "5      25.4945    81.8686             47          42.19                120   \n",
            "6      25.4920    81.8639             36          46.53                120   \n",
            "8      25.4486    81.8333             48          43.89                120   \n",
            "...        ...        ...            ...            ...                ...   \n",
            "9957   25.4945    81.8686             27          53.12                120   \n",
            "9958   25.4675    81.8867             23          52.53                120   \n",
            "9959   25.4550    81.8463             34          53.72                120   \n",
            "9960   25.4088    81.8592             22          40.91                120   \n",
            "9961   25.4920    81.8639            273          21.58                120   \n",
            "\n",
            "      green_time  ...  day_of_week  is_holiday                 event  \\\n",
            "1             59  ...       Sunday           1                   NaN   \n",
            "4             58  ...       Sunday           1  New Year Celebration   \n",
            "5             58  ...       Sunday           1                   NaN   \n",
            "6             60  ...       Sunday           1                   NaN   \n",
            "8             55  ...       Sunday           1  New Year Celebration   \n",
            "...          ...  ...          ...         ...                   ...   \n",
            "9957          63  ...       Sunday           1                   NaN   \n",
            "9958          50  ...       Friday           0     Local Market Fair   \n",
            "9959          63  ...     Thursday           1                   NaN   \n",
            "9960          60  ...      Tuesday           0                   NaN   \n",
            "9961          82  ...    Wednesday           0                   NaN   \n",
            "\n",
            "     pollution_level  car_count bus_count  truck_count  motorcycle_count  \\\n",
            "1               0.44         20         0            4                 6   \n",
            "4               0.93         25         2            9                11   \n",
            "5               1.05         26         5            7                 9   \n",
            "6               0.78         26         4            4                 2   \n",
            "8               0.94         33         3            7                 5   \n",
            "...              ...        ...       ...          ...               ...   \n",
            "9957            0.60         17         4            2                 4   \n",
            "9958            0.43         14         2            2                 5   \n",
            "9959            0.57         20         4            0                10   \n",
            "9960            0.41         13         0            5                 4   \n",
            "9961            5.58        167        26           32                48   \n",
            "\n",
            "      Hour of the day   z_score  \n",
            "1                 NaN  2.077629  \n",
            "4                 NaN  1.211841  \n",
            "5                 NaN  1.151437  \n",
            "6                 NaN  1.733999  \n",
            "8                 NaN  1.379629  \n",
            "...               ...       ...  \n",
            "9957              NaN  2.618579  \n",
            "9958              NaN  2.539383  \n",
            "9959              NaN  2.699118  \n",
            "9960              NaN  0.979622  \n",
            "9961              NaN -1.615059  \n",
            "\n",
            "[3428 rows x 23 columns]\n"
          ]
        }
      ]
    }
  ]
}