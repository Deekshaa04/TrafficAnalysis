{
  "nbformat": 4,
  "nbformat_minor": 0,
  "metadata": {
    "colab": {
      "provenance": []
    },
    "kernelspec": {
      "name": "python3",
      "display_name": "Python 3"
    },
    "language_info": {
      "name": "python"
    }
  },
  "cells": [
    {
      "cell_type": "code",
      "execution_count": 8,
      "metadata": {
        "id": "LH16ycES8Ewh"
      },
      "outputs": [],
      "source": [
        "import pandas as pd\n"
      ]
    },
    {
      "cell_type": "code",
      "source": [
        "file_path = '/content/Prayagraj_Traffic_Data.xlsx'"
      ],
      "metadata": {
        "id": "2coAiyRLpbaT"
      },
      "execution_count": 9,
      "outputs": []
    },
    {
      "cell_type": "code",
      "source": [
        "df = pd.read_excel('/content/Prayagraj_Traffic_Data.xlsx')\n",
        "\n"
      ],
      "metadata": {
        "id": "ODoKRtDJpi7l"
      },
      "execution_count": 10,
      "outputs": []
    },
    {
      "cell_type": "code",
      "source": [
        "print(\"Data with missing values:\\n\", df.head())\n"
      ],
      "metadata": {
        "colab": {
          "base_uri": "https://localhost:8080/"
        },
        "id": "_dxAvJBrp7dd",
        "outputId": "58973556-d061-44cb-cea6-85ddcda0dc71"
      },
      "execution_count": 11,
      "outputs": [
        {
          "output_type": "stream",
          "name": "stdout",
          "text": [
            "Data with missing values:\n",
            "    record_id           timestamp  intersection_id   intersection_name  \\\n",
            "0     9926.0 2023-01-07 21:20:00              6.0  Allahabad Junction   \n",
            "1     8595.0 2023-01-06 23:10:00              5.0        Naini Bridge   \n",
            "2      673.0 2023-01-01 11:10:00              3.0               Chowk   \n",
            "3     8744.0 2023-01-07 01:40:00              4.0         Tagore Town   \n",
            "4      316.0 2023-01-01 05:10:00              6.0  Allahabad Junction   \n",
            "\n",
            "   latitude  longitude  vehicle_count  average_speed  signal_cycle_time  \\\n",
            "0   25.4358    81.8307           75.0          39.72              120.0   \n",
            "1   25.4088    81.8592          139.0          30.33              120.0   \n",
            "2   25.4314    81.8437           20.0          53.28              120.0   \n",
            "3   25.4675    81.8867           21.0          36.06              120.0   \n",
            "4   25.4358    81.8307           41.0          47.21              120.0   \n",
            "\n",
            "   green_time  ...  red_time  weather_condition day_of_week is_holiday  event  \\\n",
            "0        63.0  ...      53.0              Clear    Saturday        0.0    NaN   \n",
            "1        51.0  ...      65.0              Clear      Friday        0.0    NaN   \n",
            "2        69.0  ...      46.0              Clear      Sunday        1.0    NaN   \n",
            "3        59.0  ...      57.0         Heavy Rain    Saturday        0.0    NaN   \n",
            "4         NaN  ...      54.0              Clear      Sunday        1.0    NaN   \n",
            "\n",
            "  pollution_level  car_count  bus_count  truck_count  motorcycle_count  \n",
            "0            1.21       48.0        4.0          6.0              17.0  \n",
            "1            2.86       89.0       13.0         17.0              20.0  \n",
            "2            0.34       15.0        1.0          2.0               2.0  \n",
            "3            0.54       12.0        4.0          2.0               3.0  \n",
            "4            0.86       26.0        6.0          2.0               7.0  \n",
            "\n",
            "[5 rows x 21 columns]\n"
          ]
        }
      ]
    },
    {
      "cell_type": "code",
      "source": [
        "df['timestamp'].fillna(df['timestamp'].median(), inplace=True)"
      ],
      "metadata": {
        "colab": {
          "base_uri": "https://localhost:8080/"
        },
        "id": "nUyPyfnkqiUF",
        "outputId": "684c3acd-606c-42d8-cd45-4e194b618f5e"
      },
      "execution_count": 12,
      "outputs": [
        {
          "output_type": "stream",
          "name": "stderr",
          "text": [
            "<ipython-input-12-ac058a7ba9ee>:1: FutureWarning: A value is trying to be set on a copy of a DataFrame or Series through chained assignment using an inplace method.\n",
            "The behavior will change in pandas 3.0. This inplace method will never work because the intermediate object on which we are setting values always behaves as a copy.\n",
            "\n",
            "For example, when doing 'df[col].method(value, inplace=True)', try using 'df.method({col: value}, inplace=True)' or df[col] = df[col].method(value) instead, to perform the operation inplace on the original object.\n",
            "\n",
            "\n",
            "  df['timestamp'].fillna(df['timestamp'].median(), inplace=True)\n"
          ]
        }
      ]
    },
    {
      "cell_type": "code",
      "source": [
        "df['intersection_id'].fillna(df['intersection_id'].median(), inplace=True)"
      ],
      "metadata": {
        "colab": {
          "base_uri": "https://localhost:8080/"
        },
        "id": "9VKbcCDmrVyY",
        "outputId": "9aa3c87f-655a-4337-9433-856e9307f5cf"
      },
      "execution_count": 13,
      "outputs": [
        {
          "output_type": "stream",
          "name": "stderr",
          "text": [
            "<ipython-input-13-6057d5fb5908>:1: FutureWarning: A value is trying to be set on a copy of a DataFrame or Series through chained assignment using an inplace method.\n",
            "The behavior will change in pandas 3.0. This inplace method will never work because the intermediate object on which we are setting values always behaves as a copy.\n",
            "\n",
            "For example, when doing 'df[col].method(value, inplace=True)', try using 'df.method({col: value}, inplace=True)' or df[col] = df[col].method(value) instead, to perform the operation inplace on the original object.\n",
            "\n",
            "\n",
            "  df['intersection_id'].fillna(df['intersection_id'].median(), inplace=True)\n"
          ]
        }
      ]
    },
    {
      "cell_type": "code",
      "source": [
        "df['latitude'].fillna(df['latitude'].median(), inplace=True)"
      ],
      "metadata": {
        "colab": {
          "base_uri": "https://localhost:8080/"
        },
        "id": "bx8U3N0xtM0E",
        "outputId": "40c491ba-3421-4d4c-bf2a-ebf77aa809df"
      },
      "execution_count": 15,
      "outputs": [
        {
          "output_type": "stream",
          "name": "stderr",
          "text": [
            "<ipython-input-15-4a4381009b07>:1: FutureWarning: A value is trying to be set on a copy of a DataFrame or Series through chained assignment using an inplace method.\n",
            "The behavior will change in pandas 3.0. This inplace method will never work because the intermediate object on which we are setting values always behaves as a copy.\n",
            "\n",
            "For example, when doing 'df[col].method(value, inplace=True)', try using 'df.method({col: value}, inplace=True)' or df[col] = df[col].method(value) instead, to perform the operation inplace on the original object.\n",
            "\n",
            "\n",
            "  df['latitude'].fillna(df['latitude'].median(), inplace=True)\n"
          ]
        }
      ]
    },
    {
      "cell_type": "code",
      "source": [
        "df['longitude'].fillna(df['longitude'].median(), inplace=True)"
      ],
      "metadata": {
        "colab": {
          "base_uri": "https://localhost:8080/"
        },
        "id": "42indM1DtX0v",
        "outputId": "9d4f85ea-305a-4673-adca-67114c4d5ac6"
      },
      "execution_count": 16,
      "outputs": [
        {
          "output_type": "stream",
          "name": "stderr",
          "text": [
            "<ipython-input-16-40a292fc27f0>:1: FutureWarning: A value is trying to be set on a copy of a DataFrame or Series through chained assignment using an inplace method.\n",
            "The behavior will change in pandas 3.0. This inplace method will never work because the intermediate object on which we are setting values always behaves as a copy.\n",
            "\n",
            "For example, when doing 'df[col].method(value, inplace=True)', try using 'df.method({col: value}, inplace=True)' or df[col] = df[col].method(value) instead, to perform the operation inplace on the original object.\n",
            "\n",
            "\n",
            "  df['longitude'].fillna(df['longitude'].median(), inplace=True)\n"
          ]
        }
      ]
    },
    {
      "cell_type": "code",
      "source": [
        "df['vehicle_count'].fillna(df['vehicle_count'].median(), inplace=True)"
      ],
      "metadata": {
        "colab": {
          "base_uri": "https://localhost:8080/"
        },
        "id": "hSprooK3tnhe",
        "outputId": "8fb12705-e16b-43f2-9920-e4e26bc5dbb9"
      },
      "execution_count": 17,
      "outputs": [
        {
          "output_type": "stream",
          "name": "stderr",
          "text": [
            "<ipython-input-17-3ba04adc8fce>:1: FutureWarning: A value is trying to be set on a copy of a DataFrame or Series through chained assignment using an inplace method.\n",
            "The behavior will change in pandas 3.0. This inplace method will never work because the intermediate object on which we are setting values always behaves as a copy.\n",
            "\n",
            "For example, when doing 'df[col].method(value, inplace=True)', try using 'df.method({col: value}, inplace=True)' or df[col] = df[col].method(value) instead, to perform the operation inplace on the original object.\n",
            "\n",
            "\n",
            "  df['vehicle_count'].fillna(df['vehicle_count'].median(), inplace=True)\n"
          ]
        }
      ]
    },
    {
      "cell_type": "code",
      "source": [
        "df['average_speed'].fillna(df['average_speed'].median(), inplace=True)"
      ],
      "metadata": {
        "colab": {
          "base_uri": "https://localhost:8080/"
        },
        "id": "UMtBUFy-uYFb",
        "outputId": "37134c0a-b481-407a-c694-904a1b61e5f4"
      },
      "execution_count": 18,
      "outputs": [
        {
          "output_type": "stream",
          "name": "stderr",
          "text": [
            "<ipython-input-18-f2606a6e1dc4>:1: FutureWarning: A value is trying to be set on a copy of a DataFrame or Series through chained assignment using an inplace method.\n",
            "The behavior will change in pandas 3.0. This inplace method will never work because the intermediate object on which we are setting values always behaves as a copy.\n",
            "\n",
            "For example, when doing 'df[col].method(value, inplace=True)', try using 'df.method({col: value}, inplace=True)' or df[col] = df[col].method(value) instead, to perform the operation inplace on the original object.\n",
            "\n",
            "\n",
            "  df['average_speed'].fillna(df['average_speed'].median(), inplace=True)\n"
          ]
        }
      ]
    },
    {
      "cell_type": "code",
      "source": [
        "df['signal_cycle_time'].fillna(df['signal_cycle_time'].median(), inplace=True)"
      ],
      "metadata": {
        "colab": {
          "base_uri": "https://localhost:8080/"
        },
        "id": "a69jRw88uuyY",
        "outputId": "a83f16c7-3281-4dda-ff64-114106248a00"
      },
      "execution_count": 19,
      "outputs": [
        {
          "output_type": "stream",
          "name": "stderr",
          "text": [
            "<ipython-input-19-06757c485276>:1: FutureWarning: A value is trying to be set on a copy of a DataFrame or Series through chained assignment using an inplace method.\n",
            "The behavior will change in pandas 3.0. This inplace method will never work because the intermediate object on which we are setting values always behaves as a copy.\n",
            "\n",
            "For example, when doing 'df[col].method(value, inplace=True)', try using 'df.method({col: value}, inplace=True)' or df[col] = df[col].method(value) instead, to perform the operation inplace on the original object.\n",
            "\n",
            "\n",
            "  df['signal_cycle_time'].fillna(df['signal_cycle_time'].median(), inplace=True)\n"
          ]
        }
      ]
    },
    {
      "cell_type": "code",
      "source": [
        "df['green_time'].fillna(df['green_time'].median(), inplace=True)"
      ],
      "metadata": {
        "colab": {
          "base_uri": "https://localhost:8080/"
        },
        "id": "xmxX_cvNu83H",
        "outputId": "f81a8425-64bc-4cfa-d657-8dc28b83f001"
      },
      "execution_count": 20,
      "outputs": [
        {
          "output_type": "stream",
          "name": "stderr",
          "text": [
            "<ipython-input-20-c4b1ebdadf72>:1: FutureWarning: A value is trying to be set on a copy of a DataFrame or Series through chained assignment using an inplace method.\n",
            "The behavior will change in pandas 3.0. This inplace method will never work because the intermediate object on which we are setting values always behaves as a copy.\n",
            "\n",
            "For example, when doing 'df[col].method(value, inplace=True)', try using 'df.method({col: value}, inplace=True)' or df[col] = df[col].method(value) instead, to perform the operation inplace on the original object.\n",
            "\n",
            "\n",
            "  df['green_time'].fillna(df['green_time'].median(), inplace=True)\n"
          ]
        }
      ]
    },
    {
      "cell_type": "code",
      "source": [
        "df['yellow_time'].fillna(df['yellow_time'].median(), inplace=True)"
      ],
      "metadata": {
        "colab": {
          "base_uri": "https://localhost:8080/"
        },
        "id": "aYN_7WPovTBd",
        "outputId": "51acefed-ed41-4226-a0aa-e2a0d24f90c1"
      },
      "execution_count": 21,
      "outputs": [
        {
          "output_type": "stream",
          "name": "stderr",
          "text": [
            "<ipython-input-21-465650be8c69>:1: FutureWarning: A value is trying to be set on a copy of a DataFrame or Series through chained assignment using an inplace method.\n",
            "The behavior will change in pandas 3.0. This inplace method will never work because the intermediate object on which we are setting values always behaves as a copy.\n",
            "\n",
            "For example, when doing 'df[col].method(value, inplace=True)', try using 'df.method({col: value}, inplace=True)' or df[col] = df[col].method(value) instead, to perform the operation inplace on the original object.\n",
            "\n",
            "\n",
            "  df['yellow_time'].fillna(df['yellow_time'].median(), inplace=True)\n"
          ]
        }
      ]
    },
    {
      "cell_type": "code",
      "source": [
        "df['red_time'].fillna(df['red_time'].median(), inplace=True)"
      ],
      "metadata": {
        "colab": {
          "base_uri": "https://localhost:8080/"
        },
        "id": "6qC8Es7kvph1",
        "outputId": "8cd28c83-7d35-48e3-c481-a3750f9031c1"
      },
      "execution_count": 22,
      "outputs": [
        {
          "output_type": "stream",
          "name": "stderr",
          "text": [
            "<ipython-input-22-d4ae83311ecb>:1: FutureWarning: A value is trying to be set on a copy of a DataFrame or Series through chained assignment using an inplace method.\n",
            "The behavior will change in pandas 3.0. This inplace method will never work because the intermediate object on which we are setting values always behaves as a copy.\n",
            "\n",
            "For example, when doing 'df[col].method(value, inplace=True)', try using 'df.method({col: value}, inplace=True)' or df[col] = df[col].method(value) instead, to perform the operation inplace on the original object.\n",
            "\n",
            "\n",
            "  df['red_time'].fillna(df['red_time'].median(), inplace=True)\n"
          ]
        }
      ]
    },
    {
      "cell_type": "code",
      "source": [
        "df['weather_condition'].fillna(df['weather_condition'].mode(), inplace=True)"
      ],
      "metadata": {
        "colab": {
          "base_uri": "https://localhost:8080/"
        },
        "id": "ngFXZ8gnv3-O",
        "outputId": "6561d30a-e9a9-481a-f003-1f6dfd7a77a5"
      },
      "execution_count": 23,
      "outputs": [
        {
          "output_type": "stream",
          "name": "stderr",
          "text": [
            "<ipython-input-23-bb1eee4c1199>:1: FutureWarning: A value is trying to be set on a copy of a DataFrame or Series through chained assignment using an inplace method.\n",
            "The behavior will change in pandas 3.0. This inplace method will never work because the intermediate object on which we are setting values always behaves as a copy.\n",
            "\n",
            "For example, when doing 'df[col].method(value, inplace=True)', try using 'df.method({col: value}, inplace=True)' or df[col] = df[col].method(value) instead, to perform the operation inplace on the original object.\n",
            "\n",
            "\n",
            "  df['weather_condition'].fillna(df['weather_condition'].mode(), inplace=True)\n"
          ]
        }
      ]
    },
    {
      "cell_type": "code",
      "source": [
        "df['is_holiday'].fillna(df['is_holiday'].mode()[0], inplace=True)"
      ],
      "metadata": {
        "colab": {
          "base_uri": "https://localhost:8080/"
        },
        "id": "lb2VpNI4w8ot",
        "outputId": "bfdf9546-20a7-49fc-b6ff-66f17f72f170"
      },
      "execution_count": 30,
      "outputs": [
        {
          "output_type": "stream",
          "name": "stderr",
          "text": [
            "<ipython-input-30-c1d54928f049>:1: FutureWarning: A value is trying to be set on a copy of a DataFrame or Series through chained assignment using an inplace method.\n",
            "The behavior will change in pandas 3.0. This inplace method will never work because the intermediate object on which we are setting values always behaves as a copy.\n",
            "\n",
            "For example, when doing 'df[col].method(value, inplace=True)', try using 'df.method({col: value}, inplace=True)' or df[col] = df[col].method(value) instead, to perform the operation inplace on the original object.\n",
            "\n",
            "\n",
            "  df['is_holiday'].fillna(df['is_holiday'].mode()[0], inplace=True)\n"
          ]
        }
      ]
    },
    {
      "cell_type": "code",
      "source": [
        "df['pollution_level'].fillna(df['pollution_level'].median(), inplace=True)"
      ],
      "metadata": {
        "colab": {
          "base_uri": "https://localhost:8080/"
        },
        "id": "emfAKpZLxI0j",
        "outputId": "4e617082-31ff-4a6e-bdff-289fef0de76c"
      },
      "execution_count": 25,
      "outputs": [
        {
          "output_type": "stream",
          "name": "stderr",
          "text": [
            "<ipython-input-25-40a9370491d7>:1: FutureWarning: A value is trying to be set on a copy of a DataFrame or Series through chained assignment using an inplace method.\n",
            "The behavior will change in pandas 3.0. This inplace method will never work because the intermediate object on which we are setting values always behaves as a copy.\n",
            "\n",
            "For example, when doing 'df[col].method(value, inplace=True)', try using 'df.method({col: value}, inplace=True)' or df[col] = df[col].method(value) instead, to perform the operation inplace on the original object.\n",
            "\n",
            "\n",
            "  df['pollution_level'].fillna(df['pollution_level'].median(), inplace=True)\n"
          ]
        }
      ]
    },
    {
      "cell_type": "code",
      "source": [
        "df['car_count'].fillna(df['car_count'].median(), inplace=True)"
      ],
      "metadata": {
        "colab": {
          "base_uri": "https://localhost:8080/"
        },
        "id": "p-i4q0qKxjHM",
        "outputId": "61ba2d21-89c5-4a2c-9834-2747bab5178f"
      },
      "execution_count": 26,
      "outputs": [
        {
          "output_type": "stream",
          "name": "stderr",
          "text": [
            "<ipython-input-26-57c0ca5a1892>:1: FutureWarning: A value is trying to be set on a copy of a DataFrame or Series through chained assignment using an inplace method.\n",
            "The behavior will change in pandas 3.0. This inplace method will never work because the intermediate object on which we are setting values always behaves as a copy.\n",
            "\n",
            "For example, when doing 'df[col].method(value, inplace=True)', try using 'df.method({col: value}, inplace=True)' or df[col] = df[col].method(value) instead, to perform the operation inplace on the original object.\n",
            "\n",
            "\n",
            "  df['car_count'].fillna(df['car_count'].median(), inplace=True)\n"
          ]
        }
      ]
    },
    {
      "cell_type": "code",
      "source": [
        "df['bus_count'].fillna(df['bus_count'].median(), inplace=True)"
      ],
      "metadata": {
        "colab": {
          "base_uri": "https://localhost:8080/"
        },
        "id": "TgIOUPnSx2kE",
        "outputId": "fc0a1009-4e9a-4c84-8eaa-a7d693ab2977"
      },
      "execution_count": 27,
      "outputs": [
        {
          "output_type": "stream",
          "name": "stderr",
          "text": [
            "<ipython-input-27-ec02464a2bc3>:1: FutureWarning: A value is trying to be set on a copy of a DataFrame or Series through chained assignment using an inplace method.\n",
            "The behavior will change in pandas 3.0. This inplace method will never work because the intermediate object on which we are setting values always behaves as a copy.\n",
            "\n",
            "For example, when doing 'df[col].method(value, inplace=True)', try using 'df.method({col: value}, inplace=True)' or df[col] = df[col].method(value) instead, to perform the operation inplace on the original object.\n",
            "\n",
            "\n",
            "  df['bus_count'].fillna(df['bus_count'].median(), inplace=True)\n"
          ]
        }
      ]
    },
    {
      "cell_type": "code",
      "source": [
        "df['truck_count'].fillna(df['truck_count'].median(), inplace=True)"
      ],
      "metadata": {
        "colab": {
          "base_uri": "https://localhost:8080/"
        },
        "id": "xMCFCxaEyDi9",
        "outputId": "7c10e4a9-311c-4695-ef99-cdaba0dd0beb"
      },
      "execution_count": 28,
      "outputs": [
        {
          "output_type": "stream",
          "name": "stderr",
          "text": [
            "<ipython-input-28-c5ead2ef17f5>:1: FutureWarning: A value is trying to be set on a copy of a DataFrame or Series through chained assignment using an inplace method.\n",
            "The behavior will change in pandas 3.0. This inplace method will never work because the intermediate object on which we are setting values always behaves as a copy.\n",
            "\n",
            "For example, when doing 'df[col].method(value, inplace=True)', try using 'df.method({col: value}, inplace=True)' or df[col] = df[col].method(value) instead, to perform the operation inplace on the original object.\n",
            "\n",
            "\n",
            "  df['truck_count'].fillna(df['truck_count'].median(), inplace=True)\n"
          ]
        }
      ]
    },
    {
      "cell_type": "code",
      "source": [
        "df['motorcycle_count'].fillna(df['motorcycle_count'].median(), inplace=True)"
      ],
      "metadata": {
        "colab": {
          "base_uri": "https://localhost:8080/"
        },
        "id": "rNqR3jDwyUYh",
        "outputId": "c1c5482a-1151-454a-a02f-b2b9bcc409c7"
      },
      "execution_count": 29,
      "outputs": [
        {
          "output_type": "stream",
          "name": "stderr",
          "text": [
            "<ipython-input-29-d5381e6c1aba>:1: FutureWarning: A value is trying to be set on a copy of a DataFrame or Series through chained assignment using an inplace method.\n",
            "The behavior will change in pandas 3.0. This inplace method will never work because the intermediate object on which we are setting values always behaves as a copy.\n",
            "\n",
            "For example, when doing 'df[col].method(value, inplace=True)', try using 'df.method({col: value}, inplace=True)' or df[col] = df[col].method(value) instead, to perform the operation inplace on the original object.\n",
            "\n",
            "\n",
            "  df['motorcycle_count'].fillna(df['motorcycle_count'].median(), inplace=True)\n"
          ]
        }
      ]
    },
    {
      "cell_type": "code",
      "source": [
        "print(\"Data after imputation:\\n\", df)"
      ],
      "metadata": {
        "colab": {
          "base_uri": "https://localhost:8080/"
        },
        "id": "-SECLVbTykdW",
        "outputId": "138dbafa-9191-4e44-a91c-c714e0ac4860"
      },
      "execution_count": 31,
      "outputs": [
        {
          "output_type": "stream",
          "name": "stdout",
          "text": [
            "Data after imputation:\n",
            "        record_id           timestamp  intersection_id   intersection_name  \\\n",
            "0         9926.0 2023-01-07 21:20:00              6.0  Allahabad Junction   \n",
            "1         8595.0 2023-01-06 23:10:00              5.0        Naini Bridge   \n",
            "2          673.0 2023-01-01 11:10:00              3.0               Chowk   \n",
            "3         8744.0 2023-01-07 01:40:00              4.0         Tagore Town   \n",
            "4          316.0 2023-01-01 05:10:00              6.0  Allahabad Junction   \n",
            "...          ...                 ...              ...                 ...   \n",
            "10075     7564.0 2023-01-06 06:00:00              4.0         Tagore Town   \n",
            "10076     6662.0 2023-01-05 15:00:00              2.0               Katra   \n",
            "10077     3105.0 2023-01-03 03:40:00              5.0        Naini Bridge   \n",
            "10078     5489.0 2023-01-04 19:20:00              9.0          MNNIT Gate   \n",
            "10079     6335.0 2023-01-05 09:30:00              5.0        Naini Bridge   \n",
            "\n",
            "       latitude  longitude  vehicle_count  average_speed  signal_cycle_time  \\\n",
            "0       25.4358    81.8307           75.0          39.72              120.0   \n",
            "1       25.4088    81.8592          139.0          30.33              120.0   \n",
            "2       25.4314    81.8437           20.0          53.28              120.0   \n",
            "3       25.4675    81.8867           21.0          36.06              120.0   \n",
            "4       25.4358    81.8307           41.0          47.21              120.0   \n",
            "...         ...        ...            ...            ...                ...   \n",
            "10075   25.4675    81.8867           23.0          52.53              120.0   \n",
            "10076   25.4550    81.8463           34.0          53.72              120.0   \n",
            "10077   25.4088    81.8592           22.0          40.91              120.0   \n",
            "10078   25.4920    81.8639          273.0          21.58              120.0   \n",
            "10079   25.4088    81.8592          114.0          33.92              120.0   \n",
            "\n",
            "       green_time  ...  red_time  weather_condition day_of_week is_holiday  \\\n",
            "0            63.0  ...      53.0              Clear    Saturday        0.0   \n",
            "1            51.0  ...      65.0              Clear      Friday        0.0   \n",
            "2            69.0  ...      46.0              Clear      Sunday        1.0   \n",
            "3            59.0  ...      57.0         Heavy Rain    Saturday        0.0   \n",
            "4            61.0  ...      54.0              Clear      Sunday        1.0   \n",
            "...           ...  ...       ...                ...         ...        ...   \n",
            "10075        50.0  ...      65.0              Clear      Friday        0.0   \n",
            "10076        63.0  ...      52.0              Clear    Thursday        1.0   \n",
            "10077        60.0  ...      55.0                Fog     Tuesday        0.0   \n",
            "10078        82.0  ...      34.0         Light Rain   Wednesday        0.0   \n",
            "10079        62.0  ...      53.0              Clear    Thursday        1.0   \n",
            "\n",
            "                   event pollution_level  car_count  bus_count  truck_count  \\\n",
            "0                    NaN            1.21       48.0        4.0          6.0   \n",
            "1                    NaN            2.86       89.0       13.0         17.0   \n",
            "2                    NaN            0.34       15.0        1.0          2.0   \n",
            "3                    NaN            0.54       12.0        4.0          2.0   \n",
            "4                    NaN            0.86       26.0        6.0          2.0   \n",
            "...                  ...             ...        ...        ...          ...   \n",
            "10075  Local Market Fair            0.43       14.0        2.0          2.0   \n",
            "10076                NaN            0.57       20.0        4.0          0.0   \n",
            "10077                NaN            0.41       13.0        0.0          5.0   \n",
            "10078                NaN            5.58      167.0       26.0         32.0   \n",
            "10079                NaN            2.34       68.0       10.0         15.0   \n",
            "\n",
            "       motorcycle_count  \n",
            "0                  17.0  \n",
            "1                  20.0  \n",
            "2                   2.0  \n",
            "3                   3.0  \n",
            "4                   7.0  \n",
            "...                 ...  \n",
            "10075               5.0  \n",
            "10076              10.0  \n",
            "10077               4.0  \n",
            "10078              48.0  \n",
            "10079              21.0  \n",
            "\n",
            "[10080 rows x 21 columns]\n"
          ]
        }
      ]
    },
    {
      "cell_type": "code",
      "source": [
        "output_file_path = 'transformed_data.xlsx'\n"
      ],
      "metadata": {
        "id": "IaPdsNMo0RMg"
      },
      "execution_count": 32,
      "outputs": []
    },
    {
      "cell_type": "code",
      "source": [
        "df.to_excel(output_file_path, index=False)"
      ],
      "metadata": {
        "id": "O17Mk_ij0cig"
      },
      "execution_count": 33,
      "outputs": []
    },
    {
      "cell_type": "code",
      "source": [
        "print(f\"Data exported successfully to {output_file_path}\")"
      ],
      "metadata": {
        "colab": {
          "base_uri": "https://localhost:8080/"
        },
        "id": "jzHfsLpu0qJx",
        "outputId": "a19b17a5-2c2a-4eac-aad0-2ed4d6164a7c"
      },
      "execution_count": 34,
      "outputs": [
        {
          "output_type": "stream",
          "name": "stdout",
          "text": [
            "Data exported successfully to transformed_data.xlsx\n"
          ]
        }
      ]
    }
  ]
}